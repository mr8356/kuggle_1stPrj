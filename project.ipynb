{
 "cells": [
  {
   "cell_type": "markdown",
   "metadata": {},
   "source": [
    "## 1. 필요한 라이브러리 불러오기"
   ]
  },
  {
   "cell_type": "markdown",
   "metadata": {},
   "source": []
  },
  {
   "cell_type": "code",
   "execution_count": 1,
   "metadata": {},
   "outputs": [],
   "source": [
    "import warnings\n",
    "warnings.filterwarnings(\"ignore\")\n",
    "\n",
    "import numpy as np \n",
    "import pandas as pd\n",
    "from xgboost import XGBClassifier\n",
    "from sklearn.metrics import matthews_corrcoef\n",
    "from sklearn.model_selection import StratifiedKFold "
   ]
  },
  {
   "cell_type": "markdown",
   "metadata": {},
   "source": [
    "## 2. Reading Train and Test Datasets"
   ]
  },
  {
   "cell_type": "code",
   "execution_count": null,
   "metadata": {},
   "outputs": [],
   "source": []
  },
  {
   "cell_type": "markdown",
   "metadata": {},
   "source": [
    "## 3. Preprocessing"
   ]
  },
  {
   "cell_type": "code",
   "execution_count": null,
   "metadata": {},
   "outputs": [],
   "source": []
  },
  {
   "cell_type": "markdown",
   "metadata": {},
   "source": [
    "## 4. Cross-Validation"
   ]
  },
  {
   "cell_type": "code",
   "execution_count": null,
   "metadata": {},
   "outputs": [],
   "source": [
    "X = train.drop(['class'], axis=1)\n",
    "y = train['class'].map({'p': 0, 'e': 1})"
   ]
  },
  {
   "cell_type": "code",
   "execution_count": null,
   "metadata": {},
   "outputs": [],
   "source": [
    "%%time\n",
    "\n",
    "params_xgb = {\n",
    "    \n",
    "    'enable_categorical': True,\n",
    "    'tree_method': 'hist',\n",
    "    'device': 'cuda',\n",
    "    'n_estimators': 360,         \n",
    "    'learning_rate': 0.1,           \n",
    "    'max_depth': 17,                \n",
    "    'colsample_bytree': 0.4,         \n",
    "    'min_child_weight': 2,           \n",
    "    'reg_lambda': 67,                \n",
    "    'subsample': 0.98,              \n",
    "    'num_parallel_tree': 4,\n",
    "}\n",
    "\n",
    "NUM_FOLDS = 5\n",
    "val_scores = []\n",
    "test_preds_xgb = []\n",
    "\n",
    "skf = StratifiedKFold(n_splits=NUM_FOLDS, shuffle=True, random_state=1)\n",
    "\n",
    "for fold, (train_index, val_index) in enumerate(skf.split(X, y)):  \n",
    "\n",
    "    X_train, X_val = X.iloc[train_index], X.iloc[val_index] \n",
    "    y_train, y_val = y[train_index], y[val_index]    \n",
    "        \n",
    "    xgb = XGBClassifier(**params_xgb)   \n",
    "   \n",
    "    xgb.fit(X_train, y_train) \n",
    "      \n",
    "    val_pred = xgb.predict(X_val) \n",
    "    mcc = matthews_corrcoef(y_val, val_pred )\n",
    "    print(f'Fold {fold}: MCC = {mcc:.5f}')\n",
    "    val_scores.append(mcc)\n",
    "    \n",
    "    test_preds_xgb.append(xgb.predict_proba(test))\n",
    "    \n",
    "test_preds_xgb = sum(test_preds_xgb)/len(test_preds_xgb) \n",
    "\n",
    "print(f'Mean Validation MCC= {np.mean(val_scores):.5f}')\n",
    "print(f'Standard Deviation Validation MCC= {np.std(val_scores):.5f}')"
   ]
  },
  {
   "cell_type": "markdown",
   "metadata": {},
   "source": [
    "## 5. Submission"
   ]
  },
  {
   "cell_type": "code",
   "execution_count": null,
   "metadata": {},
   "outputs": [],
   "source": [
    "pred = np.argmax(test_preds_xgb, axis=1) \n",
    "sample_submission['class'] = pd.Series(pred).map({0: 'p', 1: 'e'})\n",
    "sample_submission.head() "
   ]
  },
  {
   "cell_type": "code",
   "execution_count": null,
   "metadata": {},
   "outputs": [],
   "source": [
    "sample_submission.to_csv('submission.csv', index=False) "
   ]
  }
 ],
 "metadata": {
  "kernelspec": {
   "display_name": "base",
   "language": "python",
   "name": "python3"
  },
  "language_info": {
   "codemirror_mode": {
    "name": "ipython",
    "version": 3
   },
   "file_extension": ".py",
   "mimetype": "text/x-python",
   "name": "python",
   "nbconvert_exporter": "python",
   "pygments_lexer": "ipython3",
   "version": "3.12.4"
  }
 },
 "nbformat": 4,
 "nbformat_minor": 2
}
