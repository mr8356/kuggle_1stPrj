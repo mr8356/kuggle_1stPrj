{
 "cells": [
  {
   "cell_type": "markdown",
   "metadata": {},
   "source": [
    "# 새로운 버섯이 독성인지 식용인지 예측 프로젝트"
   ]
  },
  {
   "cell_type": "markdown",
   "metadata": {},
   "source": [
    "## 1. 필요한 라이브러리 불러오기"
   ]
  },
  {
   "cell_type": "markdown",
   "metadata": {},
   "source": [
    "### 열 설명\n",
    "id: 각 버섯의 고유 식별자.  \n",
    "class: 독성 여부, 'e' (식용 가능), 'p' (독성).   \n",
    "cap-diameter: 버섯의 갓 지름 (숫자형, cm).  \n",
    "cap-shape: 갓 모양 (예: f, x, p 등).  \n",
    "cap-surface: 갓 표면의 질감 (예: s, y, h 등).  \n",
    "cap-color: 갓의 색상 (예: u, o, n 등).  \n",
    "does-bruise-or-bleed: 멍이 들거나 진물이 나오는지 (예: f, t).  \n",
    "gill-attachment: 주름이 자라는 방식 (예: a, s).  \n",
    "gill-spacing: 주름 간격 (예: c, w 등).  \n",
    "gill-color: 주름의 색상 (예: w, g 등).  \n",
    "stem-height: 줄기의 높이 (숫자형, cm).  \n",
    "stem-width: 줄기의 너비 (숫자형, cm).  \n",
    "stem-root: 줄기의 뿌리 형태.  \n",
    "stem-surface: 줄기의 표면 질감.  \n",
    "stem-color: 줄기의 색상.  \n",
    "veil-type: 줄기를 감싸는 얇은 막의 유형.  \n",
    "veil-color: 막의 색상.  \n",
    "has-ring: 줄기 주변의 고리가 있는지 여부.  \n",
    "ring-type: 고리의 종류.  \n",
    "spore-print-color: 포자 색상.  \n",
    "habitat: 서식지 유형 (예: d, l, g 등).  \n",
    "season: 계절 (예: a, w 등).  "
   ]
  },
  {
   "cell_type": "code",
   "execution_count": 3,
   "metadata": {},
   "outputs": [],
   "source": [
    "import warnings\n",
    "warnings.filterwarnings(\"ignore\")\n",
    "\n",
    "import numpy as np \n",
    "import pandas as pd\n",
    "from xgboost import XGBClassifier\n",
    "from sklearn.metrics import matthews_corrcoef\n",
    "from sklearn.model_selection import StratifiedKFold "
   ]
  },
  {
   "cell_type": "markdown",
   "metadata": {},
   "source": [
    "## 2. Train과 Test 데이터셋 읽기"
   ]
  },
  {
   "cell_type": "code",
   "execution_count": 5,
   "metadata": {},
   "outputs": [],
   "source": [
    "train = pd.read_csv('./data/train.csv', index_col='id')\n",
    "test = pd.read_csv('./data/test.csv', index_col='id')\n",
    "sample_submission = pd.read_csv('./data/sample_submission.csv')"
   ]
  },
  {
   "cell_type": "markdown",
   "metadata": {},
   "source": [
    "## 3. 전처리"
   ]
  },
  {
   "cell_type": "code",
   "execution_count": 6,
   "metadata": {},
   "outputs": [
    {
     "name": "stdout",
     "output_type": "stream",
     "text": [
      "cap-shape                      108\n",
      "cap-surface                    114\n",
      "cap-color                      109\n",
      "does-bruise-or-bleed           29\n",
      "gill-attachment                117\n",
      "gill-spacing                   66\n",
      "gill-color                     86\n",
      "stem-root                      45\n",
      "stem-surface                   87\n",
      "stem-color                     88\n",
      "veil-type                      24\n",
      "veil-color                     27\n",
      "has-ring                       26\n",
      "ring-type                      47\n",
      "spore-print-color              43\n",
      "habitat                        65\n",
      "season                         4\n"
     ]
    }
   ],
   "source": [
    "initial_features = list(test.columns)\n",
    "\n",
    "float_features = ['cap-diameter', 'stem-height', 'stem-width']\n",
    "cat_features = [f for f in initial_features if f not in float_features]\n",
    "for feature in initial_features:\n",
    "    if feature in cat_features:\n",
    "        dtype = pd.CategoricalDtype(categories=sorted(list(set(train[feature].dropna()) | set(test[feature].dropna()))),\n",
    "                                    ordered=False)\n",
    "        print(f\"{feature:30} {len(dtype.categories)}\")\n",
    "    else:\n",
    "        dtype = np.float32\n",
    "    train[feature] = train[feature].astype(dtype)\n",
    "    if True:\n",
    "        test[feature] = test[feature].astype(dtype)"
   ]
  },
  {
   "cell_type": "markdown",
   "metadata": {},
   "source": [
    "## 4. Cross-Validation(교차 검증)"
   ]
  },
  {
   "cell_type": "code",
   "execution_count": 7,
   "metadata": {},
   "outputs": [],
   "source": [
    "X = train.drop(['class'], axis=1)\n",
    "y = train['class'].map({'p': 0, 'e': 1})"
   ]
  },
  {
   "cell_type": "code",
   "execution_count": 8,
   "metadata": {},
   "outputs": [
    {
     "name": "stdout",
     "output_type": "stream",
     "text": [
      "Fold 0: MCC = 0.98504\n",
      "Fold 1: MCC = 0.98479\n"
     ]
    }
   ],
   "source": [
    "%%time\n",
    "\n",
    "params_xgb = {\n",
    "    \n",
    "    'enable_categorical': True,\n",
    "    'tree_method': 'hist',\n",
    "    'device': 'cuda',\n",
    "    'n_estimators': 360,         \n",
    "    'learning_rate': 0.1,           \n",
    "    'max_depth': 17,                \n",
    "    'colsample_bytree': 0.4,         \n",
    "    'min_child_weight': 2,           \n",
    "    'reg_lambda': 67,                \n",
    "    'subsample': 0.98,              \n",
    "    'num_parallel_tree': 4,\n",
    "}\n",
    "\n",
    "NUM_FOLDS = 5\n",
    "val_scores = []\n",
    "test_preds_xgb = []\n",
    "\n",
    "skf = StratifiedKFold(n_splits=NUM_FOLDS, shuffle=True, random_state=1)\n",
    "\n",
    "for fold, (train_index, val_index) in enumerate(skf.split(X, y)):  \n",
    "\n",
    "    X_train, X_val = X.iloc[train_index], X.iloc[val_index] \n",
    "    y_train, y_val = y[train_index], y[val_index]    \n",
    "        \n",
    "    xgb = XGBClassifier(**params_xgb)   \n",
    "   \n",
    "    xgb.fit(X_train, y_train) \n",
    "      \n",
    "    val_pred = xgb.predict(X_val) \n",
    "    mcc = matthews_corrcoef(y_val, val_pred )\n",
    "    print(f'Fold {fold}: MCC = {mcc:.5f}')\n",
    "    val_scores.append(mcc)\n",
    "    \n",
    "    test_preds_xgb.append(xgb.predict_proba(test))\n",
    "    \n",
    "test_preds_xgb = sum(test_preds_xgb)/len(test_preds_xgb) \n",
    "\n",
    "print(f'Mean Validation MCC= {np.mean(val_scores):.5f}')\n",
    "print(f'Standard Deviation Validation MCC= {np.std(val_scores):.5f}')"
   ]
  },
  {
   "cell_type": "markdown",
   "metadata": {},
   "source": [
    "## 5. Submission"
   ]
  },
  {
   "cell_type": "code",
   "execution_count": null,
   "metadata": {},
   "outputs": [],
   "source": [
    "pred = np.argmax(test_preds_xgb, axis=1) \n",
    "sample_submission['class'] = pd.Series(pred).map({0: 'p', 1: 'e'})\n",
    "sample_submission.head() "
   ]
  },
  {
   "cell_type": "code",
   "execution_count": null,
   "metadata": {},
   "outputs": [],
   "source": [
    "sample_submission.to_csv('submission.csv', index=False) "
   ]
  }
 ],
 "metadata": {
  "kernelspec": {
   "display_name": "base",
   "language": "python",
   "name": "python3"
  },
  "language_info": {
   "codemirror_mode": {
    "name": "ipython",
    "version": 3
   },
   "file_extension": ".py",
   "mimetype": "text/x-python",
   "name": "python",
   "nbconvert_exporter": "python",
   "pygments_lexer": "ipython3",
   "version": "3.12.4"
  }
 },
 "nbformat": 4,
 "nbformat_minor": 2
}
