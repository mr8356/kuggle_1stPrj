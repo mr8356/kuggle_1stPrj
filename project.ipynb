{
 "cells": [
  {
   "cell_type": "markdown",
   "metadata": {},
   "source": [
    "## 1. 필요한 라이브러리 불러오기"
   ]
  },
  {
   "cell_type": "markdown",
   "metadata": {},
   "source": []
  },
  {
   "cell_type": "code",
   "execution_count": 1,
   "metadata": {},
   "outputs": [],
   "source": [
    "import warnings\n",
    "warnings.filterwarnings(\"ignore\")\n",
    "\n",
    "import numpy as np \n",
    "import pandas as pd\n",
    "from xgboost import XGBClassifier\n",
    "from sklearn.metrics import matthews_corrcoef\n",
    "from sklearn.model_selection import StratifiedKFold "
   ]
  },
  {
   "cell_type": "markdown",
   "metadata": {},
   "source": [
    "## 2. Reading Train and Test Datasets"
   ]
  },
  {
   "cell_type": "code",
   "execution_count": null,
   "metadata": {},
   "outputs": [
    {
     "name": "stderr",
     "output_type": "stream",
     "text": [
      "/var/folders/1_/1w14611n7zj6b7_3h1l8lqm80000gn/T/ipykernel_14958/3920746870.py:5: FutureWarning: A value is trying to be set on a copy of a DataFrame or Series through chained assignment using an inplace method.\n",
      "The behavior will change in pandas 3.0. This inplace method will never work because the intermediate object on which we are setting values always behaves as a copy.\n",
      "\n",
      "For example, when doing 'df[col].method(value, inplace=True)', try using 'df.method({col: value}, inplace=True)' or df[col] = df[col].method(value) instead, to perform the operation inplace on the original object.\n",
      "\n",
      "\n",
      "  df['Age'].fillna(df['Age'].median(), inplace=True)\n",
      "/var/folders/1_/1w14611n7zj6b7_3h1l8lqm80000gn/T/ipykernel_14958/3920746870.py:6: FutureWarning: A value is trying to be set on a copy of a DataFrame or Series through chained assignment using an inplace method.\n",
      "The behavior will change in pandas 3.0. This inplace method will never work because the intermediate object on which we are setting values always behaves as a copy.\n",
      "\n",
      "For example, when doing 'df[col].method(value, inplace=True)', try using 'df.method({col: value}, inplace=True)' or df[col] = df[col].method(value) instead, to perform the operation inplace on the original object.\n",
      "\n",
      "\n",
      "  df['Embarked'].fillna(df['Embarked'].mode()[0], inplace=True)\n"
     ]
    }
   ],
   "source": [
    "train = pd.read_csv('./data/train.csv', index_col='id')\n",
    "test = pd.read_csv('./data/test.csv', index_col='id')\n",
    "sample_submission = pd.read_csv('./data/sample_submission.csv')"
   ]
  },
  {
   "cell_type": "markdown",
   "metadata": {},
   "source": [
    "## 3. Preprocessing"
   ]
  },
  {
   "cell_type": "code",
   "execution_count": null,
   "metadata": {},
   "outputs": [],
   "source": [
    "initial_features = list(test.columns)\n",
    "\n",
    "float_features = ['cap-diameter', 'stem-height', 'stem-width']\n",
    "cat_features = [f for f in initial_features if f not in float_features]\n",
    "for feature in initial_features:\n",
    "    if feature in cat_features:\n",
    "        dtype = pd.CategoricalDtype(categories=sorted(list(set(train[feature].dropna()) | set(test[feature].dropna()))),\n",
    "                                    ordered=False)\n",
    "        print(f\"{feature:30} {len(dtype.categories)}\")\n",
    "    else:\n",
    "        dtype = np.float32\n",
    "    train[feature] = train[feature].astype(dtype)\n",
    "    if True:\n",
    "        test[feature] = test[feature].astype(dtype)"
   ]
  },
  {
   "cell_type": "markdown",
   "metadata": {},
   "source": [
    "## 4. Cross-Validation"
   ]
  },
  {
   "cell_type": "code",
   "execution_count": null,
   "metadata": {},
   "outputs": [],
   "source": [
    "X = train.drop(['class'], axis=1)\n",
    "y = train['class'].map({'p': 0, 'e': 1})"
   ]
  },
  {
   "cell_type": "code",
   "execution_count": null,
   "metadata": {},
   "outputs": [],
   "source": [
    "%%time\n",
    "\n",
    "params_xgb = {\n",
    "    \n",
    "    'enable_categorical': True,\n",
    "    'tree_method': 'hist',\n",
    "    'device': 'cuda',\n",
    "    'n_estimators': 360,         \n",
    "    'learning_rate': 0.1,           \n",
    "    'max_depth': 17,                \n",
    "    'colsample_bytree': 0.4,         \n",
    "    'min_child_weight': 2,           \n",
    "    'reg_lambda': 67,                \n",
    "    'subsample': 0.98,              \n",
    "    'num_parallel_tree': 4,\n",
    "}\n",
    "\n",
    "NUM_FOLDS = 5\n",
    "val_scores = []\n",
    "test_preds_xgb = []\n",
    "\n",
    "skf = StratifiedKFold(n_splits=NUM_FOLDS, shuffle=True, random_state=1)\n",
    "\n",
    "for fold, (train_index, val_index) in enumerate(skf.split(X, y)):  \n",
    "\n",
    "    X_train, X_val = X.iloc[train_index], X.iloc[val_index] \n",
    "    y_train, y_val = y[train_index], y[val_index]    \n",
    "        \n",
    "    xgb = XGBClassifier(**params_xgb)   \n",
    "   \n",
    "    xgb.fit(X_train, y_train) \n",
    "      \n",
    "    val_pred = xgb.predict(X_val) \n",
    "    mcc = matthews_corrcoef(y_val, val_pred )\n",
    "    print(f'Fold {fold}: MCC = {mcc:.5f}')\n",
    "    val_scores.append(mcc)\n",
    "    \n",
    "    test_preds_xgb.append(xgb.predict_proba(test))\n",
    "    \n",
    "test_preds_xgb = sum(test_preds_xgb)/len(test_preds_xgb) \n",
    "\n",
    "print(f'Mean Validation MCC= {np.mean(val_scores):.5f}')\n",
    "print(f'Standard Deviation Validation MCC= {np.std(val_scores):.5f}')"
   ]
  },
  {
   "cell_type": "markdown",
   "metadata": {},
   "source": [
    "## 5. Submission"
   ]
  },
  {
   "cell_type": "code",
   "execution_count": null,
   "metadata": {},
   "outputs": [],
   "source": [
    "pred = np.argmax(test_preds_xgb, axis=1) \n",
    "sample_submission['class'] = pd.Series(pred).map({0: 'p', 1: 'e'})\n",
    "sample_submission.head() "
   ]
  },
  {
   "cell_type": "code",
   "execution_count": null,
   "metadata": {},
   "outputs": [],
   "source": [
    "sample_submission.to_csv('submission.csv', index=False) "
   ]
  }
 ],
 "metadata": {
  "kernelspec": {
   "display_name": "base",
   "language": "python",
   "name": "python3"
  },
  "language_info": {
   "codemirror_mode": {
    "name": "ipython",
    "version": 3
   },
   "file_extension": ".py",
   "mimetype": "text/x-python",
   "name": "python",
   "nbconvert_exporter": "python",
   "pygments_lexer": "ipython3",
   "version": "3.12.4"
  }
 },
 "nbformat": 4,
 "nbformat_minor": 2
}
